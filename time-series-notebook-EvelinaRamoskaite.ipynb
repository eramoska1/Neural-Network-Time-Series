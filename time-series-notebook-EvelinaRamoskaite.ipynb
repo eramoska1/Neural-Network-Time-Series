{
  "nbformat": 4,
  "nbformat_minor": 0,
  "metadata": {
    "colab": {
      "name": "time-series-notebook-EvelinaRamoskaite.ipynb",
      "provenance": [],
      "collapsed_sections": []
    },
    "kernelspec": {
      "name": "python3",
      "display_name": "Python 3"
    },
    "language_info": {
      "name": "python"
    }
  },
  "cells": [
    {
      "cell_type": "markdown",
      "metadata": {
        "id": "gpnZ7R6FLqRO"
      },
      "source": [
        "# CSC 578 Final Project\n",
        "### Evelina Ramoskaite\n",
        "### 11/22/2021\n"
      ]
    },
    {
      "cell_type": "markdown",
      "metadata": {
        "id": "aJ2Hz4RLMErI"
      },
      "source": [
        "### Setup\n"
      ]
    },
    {
      "cell_type": "code",
      "metadata": {
        "id": "zdoexuZ_MEdA"
      },
      "source": [
        "import os\n",
        "import datetime\n",
        "\n",
        "import IPython\n",
        "import IPython.display\n",
        "import matplotlib as mpl\n",
        "import matplotlib.pyplot as plt\n",
        "import numpy as np\n",
        "import pandas as pd\n",
        "import seaborn as sns\n",
        "import tensorflow as tf\n",
        "import keras\n",
        "\n",
        "mpl.rcParams['figure.figsize'] = (8, 6)\n",
        "mpl.rcParams['axes.grid'] = False"
      ],
      "execution_count": 1,
      "outputs": []
    },
    {
      "cell_type": "markdown",
      "metadata": {
        "id": "CLXNQI3rL6ZB"
      },
      "source": [
        "### Loading Data"
      ]
    },
    {
      "cell_type": "code",
      "metadata": {
        "colab": {
          "base_uri": "https://localhost:8080/",
          "height": 35
        },
        "id": "8O-WkjYGLhuf",
        "outputId": "b5f7bbbf-b9e6-4503-af1a-321734d16064"
      },
      "source": [
        "csv_path = tf.keras.utils.get_file(\n",
        "    origin='https://reed.cs.depaul.edu/peterh/Essays/Metro_Interstate_reduced.csv',\n",
        "    fname='Metro_Interstate_reduced.csv',\n",
        "    cache_dir='/content', cache_subdir='sample_data')\n",
        "\n",
        "csv_path\n",
        "# should be '/content/sample_data/Metro_Interstate_reduced.csv'"
      ],
      "execution_count": 2,
      "outputs": [
        {
          "output_type": "execute_result",
          "data": {
            "application/vnd.google.colaboratory.intrinsic+json": {
              "type": "string"
            },
            "text/plain": [
              "'/content/sample_data/Metro_Interstate_reduced.csv'"
            ]
          },
          "metadata": {},
          "execution_count": 2
        }
      ]
    },
    {
      "cell_type": "code",
      "metadata": {
        "colab": {
          "base_uri": "https://localhost:8080/",
          "height": 363
        },
        "id": "vVS1FU8bOG6R",
        "outputId": "fc16051d-cea0-494c-caca-79352aa54db1"
      },
      "source": [
        "df = pd.read_csv(\"/content/sample_data/Metro_Interstate_reduced.csv\")\n",
        "df.head(10)"
      ],
      "execution_count": 3,
      "outputs": [
        {
          "output_type": "execute_result",
          "data": {
            "text/html": [
              "<div>\n",
              "<style scoped>\n",
              "    .dataframe tbody tr th:only-of-type {\n",
              "        vertical-align: middle;\n",
              "    }\n",
              "\n",
              "    .dataframe tbody tr th {\n",
              "        vertical-align: top;\n",
              "    }\n",
              "\n",
              "    .dataframe thead th {\n",
              "        text-align: right;\n",
              "    }\n",
              "</style>\n",
              "<table border=\"1\" class=\"dataframe\">\n",
              "  <thead>\n",
              "    <tr style=\"text-align: right;\">\n",
              "      <th></th>\n",
              "      <th>holiday</th>\n",
              "      <th>temp</th>\n",
              "      <th>rain_1h</th>\n",
              "      <th>snow_1h</th>\n",
              "      <th>clouds_all</th>\n",
              "      <th>weather_main</th>\n",
              "      <th>weather_description</th>\n",
              "      <th>date_time</th>\n",
              "      <th>traffic_volume</th>\n",
              "    </tr>\n",
              "  </thead>\n",
              "  <tbody>\n",
              "    <tr>\n",
              "      <th>0</th>\n",
              "      <td>None</td>\n",
              "      <td>288.28</td>\n",
              "      <td>0.0</td>\n",
              "      <td>0.0</td>\n",
              "      <td>40</td>\n",
              "      <td>Clouds</td>\n",
              "      <td>scattered clouds</td>\n",
              "      <td>2012-10-02 09:00:00</td>\n",
              "      <td>5545</td>\n",
              "    </tr>\n",
              "    <tr>\n",
              "      <th>1</th>\n",
              "      <td>None</td>\n",
              "      <td>289.36</td>\n",
              "      <td>0.0</td>\n",
              "      <td>0.0</td>\n",
              "      <td>75</td>\n",
              "      <td>Clouds</td>\n",
              "      <td>broken clouds</td>\n",
              "      <td>2012-10-02 10:00:00</td>\n",
              "      <td>4516</td>\n",
              "    </tr>\n",
              "    <tr>\n",
              "      <th>2</th>\n",
              "      <td>None</td>\n",
              "      <td>289.58</td>\n",
              "      <td>0.0</td>\n",
              "      <td>0.0</td>\n",
              "      <td>90</td>\n",
              "      <td>Clouds</td>\n",
              "      <td>overcast clouds</td>\n",
              "      <td>2012-10-02 11:00:00</td>\n",
              "      <td>4767</td>\n",
              "    </tr>\n",
              "    <tr>\n",
              "      <th>3</th>\n",
              "      <td>None</td>\n",
              "      <td>290.13</td>\n",
              "      <td>0.0</td>\n",
              "      <td>0.0</td>\n",
              "      <td>90</td>\n",
              "      <td>Clouds</td>\n",
              "      <td>overcast clouds</td>\n",
              "      <td>2012-10-02 12:00:00</td>\n",
              "      <td>5026</td>\n",
              "    </tr>\n",
              "    <tr>\n",
              "      <th>4</th>\n",
              "      <td>None</td>\n",
              "      <td>291.14</td>\n",
              "      <td>0.0</td>\n",
              "      <td>0.0</td>\n",
              "      <td>75</td>\n",
              "      <td>Clouds</td>\n",
              "      <td>broken clouds</td>\n",
              "      <td>2012-10-02 13:00:00</td>\n",
              "      <td>4918</td>\n",
              "    </tr>\n",
              "    <tr>\n",
              "      <th>5</th>\n",
              "      <td>None</td>\n",
              "      <td>291.72</td>\n",
              "      <td>0.0</td>\n",
              "      <td>0.0</td>\n",
              "      <td>1</td>\n",
              "      <td>Clear</td>\n",
              "      <td>sky is clear</td>\n",
              "      <td>2012-10-02 14:00:00</td>\n",
              "      <td>5181</td>\n",
              "    </tr>\n",
              "    <tr>\n",
              "      <th>6</th>\n",
              "      <td>None</td>\n",
              "      <td>293.17</td>\n",
              "      <td>0.0</td>\n",
              "      <td>0.0</td>\n",
              "      <td>1</td>\n",
              "      <td>Clear</td>\n",
              "      <td>sky is clear</td>\n",
              "      <td>2012-10-02 15:00:00</td>\n",
              "      <td>5584</td>\n",
              "    </tr>\n",
              "    <tr>\n",
              "      <th>7</th>\n",
              "      <td>None</td>\n",
              "      <td>293.86</td>\n",
              "      <td>0.0</td>\n",
              "      <td>0.0</td>\n",
              "      <td>1</td>\n",
              "      <td>Clear</td>\n",
              "      <td>sky is clear</td>\n",
              "      <td>2012-10-02 16:00:00</td>\n",
              "      <td>6015</td>\n",
              "    </tr>\n",
              "    <tr>\n",
              "      <th>8</th>\n",
              "      <td>None</td>\n",
              "      <td>294.14</td>\n",
              "      <td>0.0</td>\n",
              "      <td>0.0</td>\n",
              "      <td>20</td>\n",
              "      <td>Clouds</td>\n",
              "      <td>few clouds</td>\n",
              "      <td>2012-10-02 17:00:00</td>\n",
              "      <td>5791</td>\n",
              "    </tr>\n",
              "    <tr>\n",
              "      <th>9</th>\n",
              "      <td>None</td>\n",
              "      <td>293.10</td>\n",
              "      <td>0.0</td>\n",
              "      <td>0.0</td>\n",
              "      <td>20</td>\n",
              "      <td>Clouds</td>\n",
              "      <td>few clouds</td>\n",
              "      <td>2012-10-02 18:00:00</td>\n",
              "      <td>4770</td>\n",
              "    </tr>\n",
              "  </tbody>\n",
              "</table>\n",
              "</div>"
            ],
            "text/plain": [
              "  holiday    temp  ...            date_time  traffic_volume\n",
              "0    None  288.28  ...  2012-10-02 09:00:00            5545\n",
              "1    None  289.36  ...  2012-10-02 10:00:00            4516\n",
              "2    None  289.58  ...  2012-10-02 11:00:00            4767\n",
              "3    None  290.13  ...  2012-10-02 12:00:00            5026\n",
              "4    None  291.14  ...  2012-10-02 13:00:00            4918\n",
              "5    None  291.72  ...  2012-10-02 14:00:00            5181\n",
              "6    None  293.17  ...  2012-10-02 15:00:00            5584\n",
              "7    None  293.86  ...  2012-10-02 16:00:00            6015\n",
              "8    None  294.14  ...  2012-10-02 17:00:00            5791\n",
              "9    None  293.10  ...  2012-10-02 18:00:00            4770\n",
              "\n",
              "[10 rows x 9 columns]"
            ]
          },
          "metadata": {},
          "execution_count": 3
        }
      ]
    },
    {
      "cell_type": "markdown",
      "metadata": {
        "id": "I-te_6kTOQCs"
      },
      "source": [
        "### Exploratory "
      ]
    },
    {
      "cell_type": "code",
      "metadata": {
        "colab": {
          "base_uri": "https://localhost:8080/"
        },
        "id": "9dQQ_OZDOSlC",
        "outputId": "8241225a-4cde-4624-c127-930cc6d2827b"
      },
      "source": [
        "df.shape"
      ],
      "execution_count": 4,
      "outputs": [
        {
          "output_type": "execute_result",
          "data": {
            "text/plain": [
              "(40575, 9)"
            ]
          },
          "metadata": {},
          "execution_count": 4
        }
      ]
    },
    {
      "cell_type": "code",
      "metadata": {
        "colab": {
          "base_uri": "https://localhost:8080/"
        },
        "id": "VhvURsV1OWbB",
        "outputId": "73f50444-5182-46ed-8b8e-054163eea732"
      },
      "source": [
        "df.info()"
      ],
      "execution_count": 5,
      "outputs": [
        {
          "output_type": "stream",
          "name": "stdout",
          "text": [
            "<class 'pandas.core.frame.DataFrame'>\n",
            "RangeIndex: 40575 entries, 0 to 40574\n",
            "Data columns (total 9 columns):\n",
            " #   Column               Non-Null Count  Dtype  \n",
            "---  ------               --------------  -----  \n",
            " 0   holiday              40575 non-null  object \n",
            " 1   temp                 40575 non-null  float64\n",
            " 2   rain_1h              40575 non-null  float64\n",
            " 3   snow_1h              40575 non-null  float64\n",
            " 4   clouds_all           40575 non-null  int64  \n",
            " 5   weather_main         40575 non-null  object \n",
            " 6   weather_description  40575 non-null  object \n",
            " 7   date_time            40575 non-null  object \n",
            " 8   traffic_volume       40575 non-null  int64  \n",
            "dtypes: float64(3), int64(2), object(4)\n",
            "memory usage: 2.8+ MB\n"
          ]
        }
      ]
    },
    {
      "cell_type": "code",
      "metadata": {
        "colab": {
          "base_uri": "https://localhost:8080/"
        },
        "id": "4h07rBTAQgWk",
        "outputId": "8fb6e323-b365-420c-e281-4209b6186fa3"
      },
      "source": [
        "# Checking for missing values\n",
        "df.isnull().any() "
      ],
      "execution_count": 6,
      "outputs": [
        {
          "output_type": "execute_result",
          "data": {
            "text/plain": [
              "holiday                False\n",
              "temp                   False\n",
              "rain_1h                False\n",
              "snow_1h                False\n",
              "clouds_all             False\n",
              "weather_main           False\n",
              "weather_description    False\n",
              "date_time              False\n",
              "traffic_volume         False\n",
              "dtype: bool"
            ]
          },
          "metadata": {},
          "execution_count": 6
        }
      ]
    },
    {
      "cell_type": "code",
      "metadata": {
        "colab": {
          "base_uri": "https://localhost:8080/",
          "height": 332
        },
        "id": "gZ4RvrpvOjyn",
        "outputId": "6e36433d-d089-4116-b236-4aa52982d421"
      },
      "source": [
        "df.describe(include=['float64','int64','object']).transpose()"
      ],
      "execution_count": 7,
      "outputs": [
        {
          "output_type": "execute_result",
          "data": {
            "text/html": [
              "<div>\n",
              "<style scoped>\n",
              "    .dataframe tbody tr th:only-of-type {\n",
              "        vertical-align: middle;\n",
              "    }\n",
              "\n",
              "    .dataframe tbody tr th {\n",
              "        vertical-align: top;\n",
              "    }\n",
              "\n",
              "    .dataframe thead th {\n",
              "        text-align: right;\n",
              "    }\n",
              "</style>\n",
              "<table border=\"1\" class=\"dataframe\">\n",
              "  <thead>\n",
              "    <tr style=\"text-align: right;\">\n",
              "      <th></th>\n",
              "      <th>count</th>\n",
              "      <th>unique</th>\n",
              "      <th>top</th>\n",
              "      <th>freq</th>\n",
              "      <th>mean</th>\n",
              "      <th>std</th>\n",
              "      <th>min</th>\n",
              "      <th>25%</th>\n",
              "      <th>50%</th>\n",
              "      <th>75%</th>\n",
              "      <th>max</th>\n",
              "    </tr>\n",
              "  </thead>\n",
              "  <tbody>\n",
              "    <tr>\n",
              "      <th>holiday</th>\n",
              "      <td>40575</td>\n",
              "      <td>12</td>\n",
              "      <td>None</td>\n",
              "      <td>40522</td>\n",
              "      <td>NaN</td>\n",
              "      <td>NaN</td>\n",
              "      <td>NaN</td>\n",
              "      <td>NaN</td>\n",
              "      <td>NaN</td>\n",
              "      <td>NaN</td>\n",
              "      <td>NaN</td>\n",
              "    </tr>\n",
              "    <tr>\n",
              "      <th>temp</th>\n",
              "      <td>40575</td>\n",
              "      <td>NaN</td>\n",
              "      <td>NaN</td>\n",
              "      <td>NaN</td>\n",
              "      <td>281.317</td>\n",
              "      <td>13.8166</td>\n",
              "      <td>0</td>\n",
              "      <td>271.84</td>\n",
              "      <td>282.86</td>\n",
              "      <td>292.28</td>\n",
              "      <td>310.07</td>\n",
              "    </tr>\n",
              "    <tr>\n",
              "      <th>rain_1h</th>\n",
              "      <td>40575</td>\n",
              "      <td>NaN</td>\n",
              "      <td>NaN</td>\n",
              "      <td>NaN</td>\n",
              "      <td>0.318632</td>\n",
              "      <td>48.8126</td>\n",
              "      <td>0</td>\n",
              "      <td>0</td>\n",
              "      <td>0</td>\n",
              "      <td>0</td>\n",
              "      <td>9831.3</td>\n",
              "    </tr>\n",
              "    <tr>\n",
              "      <th>snow_1h</th>\n",
              "      <td>40575</td>\n",
              "      <td>NaN</td>\n",
              "      <td>NaN</td>\n",
              "      <td>NaN</td>\n",
              "      <td>0.000117314</td>\n",
              "      <td>0.00567615</td>\n",
              "      <td>0</td>\n",
              "      <td>0</td>\n",
              "      <td>0</td>\n",
              "      <td>0</td>\n",
              "      <td>0.51</td>\n",
              "    </tr>\n",
              "    <tr>\n",
              "      <th>clouds_all</th>\n",
              "      <td>40575</td>\n",
              "      <td>NaN</td>\n",
              "      <td>NaN</td>\n",
              "      <td>NaN</td>\n",
              "      <td>44.1992</td>\n",
              "      <td>38.6834</td>\n",
              "      <td>0</td>\n",
              "      <td>1</td>\n",
              "      <td>40</td>\n",
              "      <td>90</td>\n",
              "      <td>100</td>\n",
              "    </tr>\n",
              "    <tr>\n",
              "      <th>weather_main</th>\n",
              "      <td>40575</td>\n",
              "      <td>11</td>\n",
              "      <td>Clouds</td>\n",
              "      <td>15123</td>\n",
              "      <td>NaN</td>\n",
              "      <td>NaN</td>\n",
              "      <td>NaN</td>\n",
              "      <td>NaN</td>\n",
              "      <td>NaN</td>\n",
              "      <td>NaN</td>\n",
              "      <td>NaN</td>\n",
              "    </tr>\n",
              "    <tr>\n",
              "      <th>weather_description</th>\n",
              "      <td>40575</td>\n",
              "      <td>35</td>\n",
              "      <td>sky is clear</td>\n",
              "      <td>11642</td>\n",
              "      <td>NaN</td>\n",
              "      <td>NaN</td>\n",
              "      <td>NaN</td>\n",
              "      <td>NaN</td>\n",
              "      <td>NaN</td>\n",
              "      <td>NaN</td>\n",
              "      <td>NaN</td>\n",
              "    </tr>\n",
              "    <tr>\n",
              "      <th>date_time</th>\n",
              "      <td>40575</td>\n",
              "      <td>40575</td>\n",
              "      <td>2016-06-07 13:00:00</td>\n",
              "      <td>1</td>\n",
              "      <td>NaN</td>\n",
              "      <td>NaN</td>\n",
              "      <td>NaN</td>\n",
              "      <td>NaN</td>\n",
              "      <td>NaN</td>\n",
              "      <td>NaN</td>\n",
              "      <td>NaN</td>\n",
              "    </tr>\n",
              "    <tr>\n",
              "      <th>traffic_volume</th>\n",
              "      <td>40575</td>\n",
              "      <td>NaN</td>\n",
              "      <td>NaN</td>\n",
              "      <td>NaN</td>\n",
              "      <td>3290.65</td>\n",
              "      <td>1984.77</td>\n",
              "      <td>0</td>\n",
              "      <td>1248.5</td>\n",
              "      <td>3427</td>\n",
              "      <td>4952</td>\n",
              "      <td>7280</td>\n",
              "    </tr>\n",
              "  </tbody>\n",
              "</table>\n",
              "</div>"
            ],
            "text/plain": [
              "                     count unique                  top  ...     50%     75%     max\n",
              "holiday              40575     12                 None  ...     NaN     NaN     NaN\n",
              "temp                 40575    NaN                  NaN  ...  282.86  292.28  310.07\n",
              "rain_1h              40575    NaN                  NaN  ...       0       0  9831.3\n",
              "snow_1h              40575    NaN                  NaN  ...       0       0    0.51\n",
              "clouds_all           40575    NaN                  NaN  ...      40      90     100\n",
              "weather_main         40575     11               Clouds  ...     NaN     NaN     NaN\n",
              "weather_description  40575     35         sky is clear  ...     NaN     NaN     NaN\n",
              "date_time            40575  40575  2016-06-07 13:00:00  ...     NaN     NaN     NaN\n",
              "traffic_volume       40575    NaN                  NaN  ...    3427    4952    7280\n",
              "\n",
              "[9 rows x 11 columns]"
            ]
          },
          "metadata": {},
          "execution_count": 7
        }
      ]
    },
    {
      "cell_type": "code",
      "metadata": {
        "colab": {
          "base_uri": "https://localhost:8080/"
        },
        "id": "e9E0eS3nO_Ux",
        "outputId": "6ca5becf-3b53-44de-eebe-e6a38404281f"
      },
      "source": [
        "# ER getting the start and end date\n",
        "print(\"Start: \" +df.date_time.min())\n",
        "print(\"End: \" +df.date_time.max())"
      ],
      "execution_count": 8,
      "outputs": [
        {
          "output_type": "stream",
          "name": "stdout",
          "text": [
            "Start: 2012-10-02 09:00:00\n",
            "End: 2018-09-30 23:00:00\n"
          ]
        }
      ]
    },
    {
      "cell_type": "code",
      "metadata": {
        "id": "sPBMG9HUQiCP"
      },
      "source": [
        "# ER converting the time variable to a datetime type object\n",
        "df['date_time'] = pd.to_datetime(df['date_time'], format='%Y-%m-%d %H:%M:%S')\n",
        "date_time=df['date_time']\n",
        "timestamp_s = date_time.map(pd.Timestamp.timestamp)"
      ],
      "execution_count": 9,
      "outputs": []
    },
    {
      "cell_type": "markdown",
      "metadata": {
        "id": "JfB6fELHyXjI"
      },
      "source": [
        "Types of Weather"
      ]
    },
    {
      "cell_type": "code",
      "metadata": {
        "id": "DrXT2muTy5jI",
        "colab": {
          "base_uri": "https://localhost:8080/",
          "height": 297
        },
        "outputId": "5a8a01e9-34ee-4fca-b5f5-337a51fe02da"
      },
      "source": [
        "sns.countplot(y='weather_description',data=df)"
      ],
      "execution_count": 10,
      "outputs": [
        {
          "output_type": "execute_result",
          "data": {
            "text/plain": [
              "<matplotlib.axes._subplots.AxesSubplot at 0x7f4c487ad250>"
            ]
          },
          "metadata": {},
          "execution_count": 10
        },
        {
          "output_type": "display_data",
          "data": {
            "image/png": "[encoded data removed]",
            "text/plain": [
              "<Figure size 432x288 with 1 Axes>"
            ]
          },
          "metadata": {
            "needs_background": "light"
          }
        }
      ]
    },
    {
      "cell_type": "markdown",
      "metadata": {
        "id": "SuHhgfpAzghT"
      },
      "source": [
        "Main Weather of the Day\n",
        "Most days were either cloudy or clear. Squall and Smoke were the least common weather types."
      ]
    },
    {
      "cell_type": "code",
      "metadata": {
        "colab": {
          "base_uri": "https://localhost:8080/",
          "height": 296
        },
        "id": "BgmIW9yrzlFB",
        "outputId": "43bdd7db-4bb4-440a-a4e8-a884b3243f5a"
      },
      "source": [
        "sns.countplot(y='weather_main',data=df)"
      ],
      "execution_count": 11,
      "outputs": [
        {
          "output_type": "execute_result",
          "data": {
            "text/plain": [
              "<matplotlib.axes._subplots.AxesSubplot at 0x7f4c47c26810>"
            ]
          },
          "metadata": {},
          "execution_count": 11
        },
        {
          "output_type": "display_data",
          "data": {
            "image/png": "[encoded data removed]",
            "text/plain": [
              "<Figure size 432x288 with 1 Axes>"
            ]
          },
          "metadata": {
            "needs_background": "light"
          }
        }
      ]
    },
    {
      "cell_type": "markdown",
      "metadata": {
        "id": "bNhnokBGzwfe"
      },
      "source": [
        "###Holidays\n",
        "There are 11 holidays, almost all of which have occured 5 times in the span of the dataset."
      ]
    },
    {
      "cell_type": "code",
      "metadata": {
        "colab": {
          "base_uri": "https://localhost:8080/",
          "height": 296
        },
        "id": "g6vR8P-7z1CY",
        "outputId": "752535ea-156f-4fd3-c6d2-571110cd01d3"
      },
      "source": [
        "holiday = df[df['holiday']!= 'None']\n",
        "sns.countplot(y='holiday',data=holiday)"
      ],
      "execution_count": 12,
      "outputs": [
        {
          "output_type": "execute_result",
          "data": {
            "text/plain": [
              "<matplotlib.axes._subplots.AxesSubplot at 0x7f4c47b877d0>"
            ]
          },
          "metadata": {},
          "execution_count": 12
        },
        {
          "output_type": "display_data",
          "data": {
            "image/png": "[encoded data removed]",
            "text/plain": [
              "<Figure size 432x288 with 1 Axes>"
            ]
          },
          "metadata": {
            "needs_background": "light"
          }
        }
      ]
    },
    {
      "cell_type": "markdown",
      "metadata": {
        "id": "HkvlKqRH2CYh"
      },
      "source": [
        "Time Plot "
      ]
    },
    {
      "cell_type": "code",
      "metadata": {
        "colab": {
          "base_uri": "https://localhost:8080/",
          "height": 539
        },
        "id": "90elkxW2QNNL",
        "outputId": "eb751e04-7e73-412a-b096-7693eebd92d7"
      },
      "source": [
        "# ER Plotting Columns over time\n",
        "# TF Tutorial\n",
        "plot_cols = ['temp','clouds_all','traffic_volume'] \n",
        "plot_features = df[plot_cols]\n",
        "plot_features.index = date_time\n",
        "_ = plot_features.plot(subplots=True)\n",
        "\n",
        "plot_features = df[plot_cols][:200]\n",
        "plot_features.index = date_time[:200]\n",
        "_ = plot_features.plot(subplots=True)"
      ],
      "execution_count": 13,
      "outputs": [
        {
          "output_type": "display_data",
          "data": {
            "image/png": "[encoded data removed]",
            "text/plain": [
              "<Figure size 432x288 with 3 Axes>"
            ]
          },
          "metadata": {
            "needs_background": "light"
          }
        },
        {
          "output_type": "display_data",
          "data": {
            "image/png": "[encoded data removed]",
            "text/plain": [
              "<Figure size 432x288 with 3 Axes>"
            ]
          },
          "metadata": {
            "needs_background": "light"
          }
        }
      ]
    },
    {
      "cell_type": "markdown",
      "metadata": {
        "id": "m3MNQ2ejb_3c"
      },
      "source": [
        "There appears to be a regular seasonality in the traffic volume that could be exploited.Traffic volumes dip at predictable and consistent intervals throughout the week in the last plot."
      ]
    },
    {
      "cell_type": "markdown",
      "metadata": {
        "id": "Xf7dobgPM05t"
      },
      "source": [
        "### Removing Categorical Variables\n",
        "When the Models included categorical variables, they failed to make predictions. I opted to keep things simple and remove them. "
      ]
    },
    {
      "cell_type": "code",
      "metadata": {
        "colab": {
          "base_uri": "https://localhost:8080/"
        },
        "id": "BbNgLCxBxbGm",
        "outputId": "fd048e9e-0302-4081-bb8e-b59685ddd91a"
      },
      "source": [
        "df.columns"
      ],
      "execution_count": 14,
      "outputs": [
        {
          "output_type": "execute_result",
          "data": {
            "text/plain": [
              "Index(['holiday', 'temp', 'rain_1h', 'snow_1h', 'clouds_all', 'weather_main',\n",
              "       'weather_description', 'date_time', 'traffic_volume'],\n",
              "      dtype='object')"
            ]
          },
          "metadata": {},
          "execution_count": 14
        }
      ]
    },
    {
      "cell_type": "code",
      "metadata": {
        "id": "P0zeQkvI101b"
      },
      "source": [
        "# ER determining the number of values to include in the validation set \n",
        "40575 * 0.2\n",
        "df.head()\n",
        "# Dropping Categorical Variables\n",
        "df=df.drop(columns=['date_time','weather_description','weather_main','holiday'])\n"
      ],
      "execution_count": 15,
      "outputs": []
    },
    {
      "cell_type": "markdown",
      "metadata": {
        "id": "kOhBhDPvP0gg"
      },
      "source": [
        "# Train Test Split\n"
      ]
    },
    {
      "cell_type": "code",
      "metadata": {
        "id": "ur33XNjYP2gA"
      },
      "source": [
        "# ER leaving out 5,000 values for testing\n",
        "# ER Testing starts at value 35,575\n",
        "column_indices = {name: i for i, name in enumerate(df.columns)}\n",
        "train_df = df[0:27458]\n",
        "val_df = df[27459:35574]\n",
        "test_df= df[35575:]\n",
        "num_features = df.shape[1]"
      ],
      "execution_count": 16,
      "outputs": []
    },
    {
      "cell_type": "markdown",
      "metadata": {
        "id": "XnXhJdXYrcMg"
      },
      "source": [
        "### Normalizing the Data\n"
      ]
    },
    {
      "cell_type": "code",
      "metadata": {
        "id": "UG4dReKBiRrN"
      },
      "source": [
        "# TF Tutorial\n",
        "train_mean = train_df.mean()\n",
        "train_std = train_df.std()\n",
        "train_df = (train_df - train_mean) / train_std\n",
        "val_df = (val_df - train_mean) / train_std\n",
        "test_df = (test_df - train_mean) / train_std"
      ],
      "execution_count": 17,
      "outputs": []
    },
    {
      "cell_type": "markdown",
      "metadata": {
        "id": "xo-nkTl8aJL8"
      },
      "source": [
        "### Window Generator\n"
      ]
    },
    {
      "cell_type": "code",
      "metadata": {
        "id": "czfDN68iJRUf"
      },
      "source": [
        "# TF tutorial\n",
        "class WindowGenerator():\n",
        "  def __init__(self, input_width, label_width, shift,\n",
        "               train_df=train_df, val_df=val_df, test_df=test_df,\n",
        "               label_columns='traffic_volume'):\n",
        "    # Store the raw data.\n",
        "    self.train_df = train_df\n",
        "    self.val_df = val_df\n",
        "    self.test_df = test_df\n",
        "\n",
        "    # Work out the label column indices.\n",
        "    self.label_columns = label_columns\n",
        "    if label_columns is not None:\n",
        "      self.label_columns_indices = {name: i for i, name in\n",
        "                                    enumerate(label_columns)}\n",
        "    self.column_indices = {name: i for i, name in\n",
        "                           enumerate(train_df.columns)}\n",
        "\n",
        "    # Work out the window parameters.\n",
        "    self.input_width = input_width\n",
        "    self.label_width = label_width\n",
        "    self.shift = shift\n",
        "\n",
        "    self.total_window_size = input_width + shift\n",
        "\n",
        "    self.input_slice = slice(0, input_width)\n",
        "    self.input_indices = np.arange(self.total_window_size)[self.input_slice]\n",
        "\n",
        "    self.label_start = self.total_window_size - self.label_width\n",
        "    self.labels_slice = slice(self.label_start, None)\n",
        "    self.label_indices = np.arange(self.total_window_size)[self.labels_slice]\n",
        "\n",
        "  def __repr__(self):\n",
        "    return '\\n'.join([\n",
        "        f'Total window size: {self.total_window_size}',\n",
        "        f'Input indices: {self.input_indices}',\n",
        "        f'Label indices: {self.label_indices}',\n",
        "        f'Label column name(s): {self.label_columns}'])"
      ],
      "execution_count": 18,
      "outputs": []
    },
    {
      "cell_type": "markdown",
      "metadata": {
        "id": "ORT613C0VdYp"
      },
      "source": [
        "## Creating Window\n",
        "The desired window takes 7 input values, and makes 1 prediction 3 hours out into the future."
      ]
    },
    {
      "cell_type": "code",
      "metadata": {
        "colab": {
          "base_uri": "https://localhost:8080/"
        },
        "id": "nHdDZXAHnzU2",
        "outputId": "c7132099-2732-41d7-b3ae-d1c99e973c33"
      },
      "source": [
        "# ER predict from a 7-hour input window, just the traffic volume for 3 hours past the end of the window. \n",
        "# TF tutorial\n",
        "w1 = WindowGenerator(input_width=7, label_width=1, shift=3,\n",
        "                     label_columns=['traffic_volume'])\n",
        "w1"
      ],
      "execution_count": 19,
      "outputs": [
        {
          "output_type": "execute_result",
          "data": {
            "text/plain": [
              "Total window size: 10\n",
              "Input indices: [0 1 2 3 4 5 6]\n",
              "Label indices: [9]\n",
              "Label column name(s): ['traffic_volume']"
            ]
          },
          "metadata": {},
          "execution_count": 19
        }
      ]
    },
    {
      "cell_type": "markdown",
      "metadata": {
        "id": "LIAQ0n8LW_8X"
      },
      "source": [
        "The window size and indecies of the labels are as expected."
      ]
    },
    {
      "cell_type": "markdown",
      "metadata": {
        "id": "yGSIWr8GVydG"
      },
      "source": [
        "The split window function splits the windows into a window of inputs and a window of labels"
      ]
    },
    {
      "cell_type": "code",
      "metadata": {
        "id": "FvVH3REIJYRR"
      },
      "source": [
        "# TF tutorial\n",
        "def split_window(self, features):\n",
        "  inputs = features[:, self.input_slice, :]\n",
        "  labels = features[:, self.labels_slice, :]\n",
        "  if self.label_columns is not None:\n",
        "    labels = tf.stack(\n",
        "        [labels[:, :, self.column_indices[name]] for name in self.label_columns],\n",
        "        axis=-1)\n",
        "\n",
        "  # Slicing doesn't preserve static shape information, so set the shapes\n",
        "  # manually. This way the `tf.data.Datasets` are easier to inspect.\n",
        "  inputs.set_shape([None, self.input_width, None])\n",
        "  labels.set_shape([None, self.label_width, None])\n",
        "\n",
        "  return inputs, labels\n",
        "\n",
        "WindowGenerator.split_window = split_window"
      ],
      "execution_count": 20,
      "outputs": []
    },
    {
      "cell_type": "markdown",
      "metadata": {
        "id": "GMvwsg9KXXLT"
      },
      "source": [
        "# Making Tensorflow time series DataFrame\n",
        "This converts the dataframe into a series of input windows and label windows for use in the models."
      ]
    },
    {
      "cell_type": "code",
      "metadata": {
        "id": "x4UMX34XJ7yO"
      },
      "source": [
        "# TF Tutorial\n",
        "def make_dataset(self, data):\n",
        "  data = np.array(data, dtype=np.float32)\n",
        "  ds = tf.keras.preprocessing.timeseries_dataset_from_array(\n",
        "      data=data,\n",
        "      targets=None,\n",
        "      sequence_length=self.total_window_size,\n",
        "      sequence_stride=1, # ER changed the stride to 3\n",
        "      shuffle=False,\n",
        "      batch_size=32,)\n",
        "\n",
        "  ds = ds.map(self.split_window)\n",
        "\n",
        "  return ds\n",
        "\n",
        "WindowGenerator.make_dataset = make_dataset"
      ],
      "execution_count": 21,
      "outputs": []
    },
    {
      "cell_type": "code",
      "metadata": {
        "id": "57WDPqcsKAIn"
      },
      "source": [
        "@property\n",
        "def train(self):\n",
        "  return self.make_dataset(self.train_df)\n",
        "\n",
        "@property\n",
        "def val(self):\n",
        "  return self.make_dataset(self.val_df)\n",
        "\n",
        "@property\n",
        "def test(self):\n",
        "  return self.make_dataset(self.test_df)\n",
        "\n",
        "@property\n",
        "def example(self):\n",
        "  \"\"\"Get and cache an example batch of `inputs, labels` for plotting.\"\"\"\n",
        "  result = getattr(self, '_example', None)\n",
        "  if result is None:\n",
        "    # No example batch was found, so get one from the `.train` dataset\n",
        "    result = next(iter(self.train))\n",
        "    # And cache it for next time\n",
        "    self._example = result\n",
        "  return result\n",
        "\n",
        "WindowGenerator.train = train\n",
        "WindowGenerator.val = val\n",
        "WindowGenerator.test = test\n",
        "WindowGenerator.example = example"
      ],
      "execution_count": 22,
      "outputs": []
    },
    {
      "cell_type": "code",
      "metadata": {
        "id": "AueH2gC6Wuu1"
      },
      "source": [
        "# TF Tutorial\n",
        "def plot(self, model=None, plot_col='traffic_volume', max_subplots=3):\n",
        "  inputs, labels = self.example\n",
        "  plt.figure(figsize=(12, 8))\n",
        "  plot_col_index = self.column_indices[plot_col]\n",
        "  max_n = min(max_subplots, len(inputs))\n",
        "  for n in range(max_n):\n",
        "    plt.subplot(max_n, 1, n+1)\n",
        "    plt.ylabel(f'{plot_col} [normed]')\n",
        "    plt.plot(self.input_indices, inputs[n, :, plot_col_index],\n",
        "             label='Inputs', marker='.', zorder=-10)\n",
        "\n",
        "    if self.label_columns:\n",
        "      label_col_index = self.label_columns_indices.get(plot_col, None)\n",
        "    else:\n",
        "      label_col_index = plot_col_index\n",
        "\n",
        "    if label_col_index is None:\n",
        "      continue\n",
        "\n",
        "    plt.scatter(self.label_indices, labels[n, :, label_col_index],\n",
        "                edgecolors='k', label='Labels', c='#2ca02c', s=64)\n",
        "    if model is not None:\n",
        "      predictions = model(inputs)\n",
        "      plt.scatter(self.label_indices, predictions[n, :, label_col_index],\n",
        "                  marker='X', edgecolors='k', label='Predictions',\n",
        "                  c='#ff7f0e', s=64)\n",
        "\n",
        "    if n == 0:\n",
        "      plt.legend()\n",
        "\n",
        "  plt.xlabel('Time [h]')\n",
        "\n",
        "WindowGenerator.plot = plot"
      ],
      "execution_count": 23,
      "outputs": []
    },
    {
      "cell_type": "code",
      "metadata": {
        "colab": {
          "base_uri": "https://localhost:8080/",
          "height": 497
        },
        "id": "3_cCG7dxWwLN",
        "outputId": "07b7a72d-d027-4ca2-9b18-f6c479dc2451"
      },
      "source": [
        "w1.plot()"
      ],
      "execution_count": 24,
      "outputs": [
        {
          "output_type": "display_data",
          "data": {
            "image/png": "[encoded data removed]",
            "text/plain": [
              "<Figure size 864x576 with 3 Axes>"
            ]
          },
          "metadata": {
            "needs_background": "light"
          }
        }
      ]
    },
    {
      "cell_type": "markdown",
      "metadata": {
        "id": "XEazcinKzZGT"
      },
      "source": [
        "For the time series, a window is required. The network will make a set of predictions based on a window of consecutive data. In this project, I am using a 7-hour input window and predicting the label for 1 value 3 hours beyond that window. "
      ]
    },
    {
      "cell_type": "markdown",
      "metadata": {
        "id": "cO4WvGj6NvWc"
      },
      "source": [
        "### Verifying the input and output shapes"
      ]
    },
    {
      "cell_type": "code",
      "metadata": {
        "colab": {
          "base_uri": "https://localhost:8080/"
        },
        "id": "5lZBrHU60Wzl",
        "outputId": "fbddeb22-1e7e-406f-e62c-824cbb8f6061"
      },
      "source": [
        "# Each element is an (inputs, label) pair.\n",
        "w1.train.element_spec"
      ],
      "execution_count": 25,
      "outputs": [
        {
          "output_type": "execute_result",
          "data": {
            "text/plain": [
              "(TensorSpec(shape=(None, 7, 5), dtype=tf.float32, name=None),\n",
              " TensorSpec(shape=(None, 1, 1), dtype=tf.float32, name=None))"
            ]
          },
          "metadata": {},
          "execution_count": 25
        }
      ]
    },
    {
      "cell_type": "markdown",
      "metadata": {
        "id": "mkoUmoompKjW"
      },
      "source": [
        "Confirming that the ts dataframes have the correct shape"
      ]
    },
    {
      "cell_type": "code",
      "metadata": {
        "colab": {
          "base_uri": "https://localhost:8080/"
        },
        "id": "JbOxXx6ApLYc",
        "outputId": "7bc77ef0-fea7-4bca-ad94-670723be7eff"
      },
      "source": [
        "w1.test.element_spec"
      ],
      "execution_count": 26,
      "outputs": [
        {
          "output_type": "execute_result",
          "data": {
            "text/plain": [
              "(TensorSpec(shape=(None, 7, 5), dtype=tf.float32, name=None),\n",
              " TensorSpec(shape=(None, 1, 1), dtype=tf.float32, name=None))"
            ]
          },
          "metadata": {},
          "execution_count": 26
        }
      ]
    },
    {
      "cell_type": "markdown",
      "metadata": {
        "id": "aJ_L2Dvya1_E"
      },
      "source": [
        "The shape of the input and output are as expected. \n"
      ]
    },
    {
      "cell_type": "markdown",
      "metadata": {
        "id": "etn9KI3Tk06y"
      },
      "source": [
        "## Model Helper Function"
      ]
    },
    {
      "cell_type": "code",
      "metadata": {
        "id": "OtW2sLzAFlnL"
      },
      "source": [
        "# TF Tutorial Code \n",
        "MAX_EPOCHS = 20\n",
        "\n",
        "def compile_and_fit(model, window, patience=6):\n",
        "  early_stopping = tf.keras.callbacks.EarlyStopping(monitor='val_loss',\n",
        "                                                    patience=patience,\n",
        "                                                    mode='min')\n",
        "\n",
        "  model.compile(loss=tf.losses.MeanSquaredError(),\n",
        "                optimizer=tf.optimizers.Adam(),\n",
        "                metrics=[tf.metrics.MeanAbsoluteError()])\n",
        "\n",
        "  history = model.fit(window.train, epochs=MAX_EPOCHS,\n",
        "                      validation_data=window.val,\n",
        "                      callbacks=[early_stopping])\n",
        "  return history"
      ],
      "execution_count": 27,
      "outputs": []
    },
    {
      "cell_type": "markdown",
      "metadata": {
        "id": "eovuvM__jPkF"
      },
      "source": [
        "# Linear NN Model - Base Model\n",
        "I kept this model fairly simple. It will serve as a benchmark to compare more complicated models to. \n"
      ]
    },
    {
      "cell_type": "code",
      "metadata": {
        "colab": {
          "base_uri": "https://localhost:8080/"
        },
        "id": "pWgdsCjHQ99o",
        "outputId": "a2420397-d128-4bab-969e-d9e3c30dbf1e"
      },
      "source": [
        "# ER initiating model\n",
        "dense = tf.keras.Sequential([\n",
        "    tf.keras.layers.Dense(units=7, activation='relu',input_shape=(7,5)),\n",
        "    tf.keras.layers.Dense(units=1, activation='relu'),\n",
        "    tf.keras.layers.Dense(units=3)\n",
        "])\n",
        "# ER summary of network structure\n",
        "dense.summary()"
      ],
      "execution_count": 28,
      "outputs": [
        {
          "output_type": "stream",
          "name": "stdout",
          "text": [
            "Model: \"sequential\"\n",
            "_________________________________________________________________\n",
            " Layer (type)                Output Shape              Param #   \n",
            "=================================================================\n",
            " dense (Dense)               (None, 7, 7)              42        \n",
            "                                                                 \n",
            " dense_1 (Dense)             (None, 7, 1)              8         \n",
            "                                                                 \n",
            " dense_2 (Dense)             (None, 7, 3)              6         \n",
            "                                                                 \n",
            "=================================================================\n",
            "Total params: 56\n",
            "Trainable params: 56\n",
            "Non-trainable params: 0\n",
            "_________________________________________________________________\n"
          ]
        }
      ]
    },
    {
      "cell_type": "code",
      "metadata": {
        "colab": {
          "base_uri": "https://localhost:8080/"
        },
        "id": "F6DzgtQHykj2",
        "outputId": "f3a57cd8-7a84-4401-a0bd-6583f0715fc5"
      },
      "source": [
        "# ER Compiling and fitting the model\n",
        "\n",
        "history = compile_and_fit(dense,w1)\n",
        "val_performance = {}\n",
        "performance = {}\n",
        "val_performance['Dense'] = dense.evaluate(w1.val, verbose = 0 )\n",
        "performance['Dense'] = dense.evaluate(w1.test, verbose= 0)"
      ],
      "execution_count": 30,
      "outputs": [
        {
          "output_type": "stream",
          "name": "stdout",
          "text": [
            "Epoch 1/20\n",
            "858/858 [==============================] - 6s 6ms/step - loss: 0.8919 - mean_absolute_error: 0.8189 - val_loss: 0.8613 - val_mean_absolute_error: 0.8055\n",
            "Epoch 2/20\n",
            "858/858 [==============================] - 5s 6ms/step - loss: 0.8914 - mean_absolute_error: 0.8186 - val_loss: 0.8627 - val_mean_absolute_error: 0.8058\n",
            "Epoch 3/20\n",
            "858/858 [==============================] - 5s 6ms/step - loss: 0.8912 - mean_absolute_error: 0.8184 - val_loss: 0.8633 - val_mean_absolute_error: 0.8058\n",
            "Epoch 4/20\n",
            "858/858 [==============================] - 5s 6ms/step - loss: 0.8909 - mean_absolute_error: 0.8182 - val_loss: 0.8615 - val_mean_absolute_error: 0.8050\n",
            "Epoch 5/20\n",
            "858/858 [==============================] - 5s 6ms/step - loss: 0.8908 - mean_absolute_error: 0.8181 - val_loss: 0.8618 - val_mean_absolute_error: 0.8050\n",
            "Epoch 6/20\n",
            "858/858 [==============================] - 5s 6ms/step - loss: 0.8906 - mean_absolute_error: 0.8180 - val_loss: 0.8596 - val_mean_absolute_error: 0.8041\n",
            "Epoch 7/20\n",
            "858/858 [==============================] - 5s 6ms/step - loss: 0.8905 - mean_absolute_error: 0.8179 - val_loss: 0.8592 - val_mean_absolute_error: 0.8038\n",
            "Epoch 8/20\n",
            "858/858 [==============================] - 5s 6ms/step - loss: 0.8903 - mean_absolute_error: 0.8179 - val_loss: 0.8578 - val_mean_absolute_error: 0.8032\n",
            "Epoch 9/20\n",
            "858/858 [==============================] - 5s 6ms/step - loss: 0.8901 - mean_absolute_error: 0.8177 - val_loss: 0.8572 - val_mean_absolute_error: 0.8028\n",
            "Epoch 10/20\n",
            "858/858 [==============================] - 5s 6ms/step - loss: 0.8902 - mean_absolute_error: 0.8177 - val_loss: 0.8558 - val_mean_absolute_error: 0.8024\n",
            "Epoch 11/20\n",
            "858/858 [==============================] - 5s 6ms/step - loss: 0.8898 - mean_absolute_error: 0.8175 - val_loss: 0.8560 - val_mean_absolute_error: 0.8023\n",
            "Epoch 12/20\n",
            "858/858 [==============================] - 5s 5ms/step - loss: 0.8895 - mean_absolute_error: 0.8175 - val_loss: 0.8551 - val_mean_absolute_error: 0.8019\n",
            "Epoch 13/20\n",
            "858/858 [==============================] - 6s 6ms/step - loss: 0.8896 - mean_absolute_error: 0.8174 - val_loss: 0.8557 - val_mean_absolute_error: 0.8020\n",
            "Epoch 14/20\n",
            "858/858 [==============================] - 5s 6ms/step - loss: 0.8895 - mean_absolute_error: 0.8174 - val_loss: 0.8543 - val_mean_absolute_error: 0.8015\n",
            "Epoch 15/20\n",
            "858/858 [==============================] - 5s 6ms/step - loss: 0.8895 - mean_absolute_error: 0.8174 - val_loss: 0.8550 - val_mean_absolute_error: 0.8016\n",
            "Epoch 16/20\n",
            "858/858 [==============================] - 5s 6ms/step - loss: 0.8895 - mean_absolute_error: 0.8174 - val_loss: 0.8539 - val_mean_absolute_error: 0.8013\n",
            "Epoch 17/20\n",
            "858/858 [==============================] - 5s 6ms/step - loss: 0.8894 - mean_absolute_error: 0.8173 - val_loss: 0.8541 - val_mean_absolute_error: 0.8012\n",
            "Epoch 18/20\n",
            "858/858 [==============================] - 5s 6ms/step - loss: 0.8895 - mean_absolute_error: 0.8174 - val_loss: 0.8531 - val_mean_absolute_error: 0.8009\n",
            "Epoch 19/20\n",
            "858/858 [==============================] - 5s 6ms/step - loss: 0.8894 - mean_absolute_error: 0.8174 - val_loss: 0.8532 - val_mean_absolute_error: 0.8009\n",
            "Epoch 20/20\n",
            "858/858 [==============================] - 5s 6ms/step - loss: 0.8894 - mean_absolute_error: 0.8174 - val_loss: 0.8522 - val_mean_absolute_error: 0.8006\n"
          ]
        }
      ]
    },
    {
      "cell_type": "markdown",
      "metadata": {
        "id": "GX6Rl5FJyv9z"
      },
      "source": [
        "## Convolutional Neural Network - Best Kaggle Model"
      ]
    },
    {
      "cell_type": "markdown",
      "metadata": {
        "id": "WZr3iMg9jSEW"
      },
      "source": [
        "First, I set up the same window as before, but for the CNN.\n",
        "There are 7 hours of input, and 1 predicted value, 3 hours out. "
      ]
    },
    {
      "cell_type": "code",
      "metadata": {
        "id": "coiAPDKS78qj",
        "colab": {
          "base_uri": "https://localhost:8080/"
        },
        "outputId": "c527ea9a-95df-4bf1-a8a0-fd16e9d2f531"
      },
      "source": [
        "CONV_WIDTH = 7\n",
        "conv_window = WindowGenerator(\n",
        "    input_width=CONV_WIDTH,\n",
        "    label_width=1,\n",
        "    shift=3,\n",
        "    label_columns=['traffic_volume'])\n",
        "\n",
        "conv_window"
      ],
      "execution_count": 31,
      "outputs": [
        {
          "output_type": "execute_result",
          "data": {
            "text/plain": [
              "Total window size: 10\n",
              "Input indices: [0 1 2 3 4 5 6]\n",
              "Label indices: [9]\n",
              "Label column name(s): ['traffic_volume']"
            ]
          },
          "metadata": {},
          "execution_count": 31
        }
      ]
    },
    {
      "cell_type": "markdown",
      "metadata": {
        "id": "jxABSJSRok_N"
      },
      "source": [
        "Visualizing the Convolutional Window"
      ]
    },
    {
      "cell_type": "code",
      "metadata": {
        "id": "dS0Hi_ud8EfK",
        "colab": {
          "base_uri": "https://localhost:8080/",
          "height": 514
        },
        "outputId": "fadf3226-1fd6-4788-f8a3-cbdf37a7a8d5"
      },
      "source": [
        "conv_window.plot()\n",
        "plt.title(\"Given 7 hours of inputs, predict 1 hour, 3 steps into the future.\")"
      ],
      "execution_count": 32,
      "outputs": [
        {
          "output_type": "execute_result",
          "data": {
            "text/plain": [
              "Text(0.5, 1.0, 'Given 7 hours of inputs, predict 1 hour, 3 steps into the future.')"
            ]
          },
          "metadata": {},
          "execution_count": 32
        },
        {
          "output_type": "display_data",
          "data": {
            "image/png": "[encoded data removed]",
            "text/plain": [
              "<Figure size 864x576 with 3 Axes>"
            ]
          },
          "metadata": {
            "needs_background": "light"
          }
        }
      ]
    },
    {
      "cell_type": "markdown",
      "metadata": {
        "id": "yq4VAUDcotwS"
      },
      "source": [
        "Initiating the model"
      ]
    },
    {
      "cell_type": "code",
      "metadata": {
        "id": "R0xNGdAf8Pvo"
      },
      "source": [
        "conv_model = tf.keras.Sequential([\n",
        "    tf.keras.layers.Conv1D(filters=126,\n",
        "                           kernel_size=(CONV_WIDTH,),\n",
        "                           activation='tanh'),\n",
        "    tf.keras.layers.Dense(units=63, activation='relu'),\n",
        "    tf.keras.layers.Dense(units=32, activation='LeakyReLU'),\n",
        "    tf.keras.layers.Dense(units=1),\n",
        "])\n"
      ],
      "execution_count": 33,
      "outputs": []
    },
    {
      "cell_type": "code",
      "metadata": {
        "id": "qlB9w3a28RxB",
        "colab": {
          "base_uri": "https://localhost:8080/"
        },
        "outputId": "3982dc4d-8e18-4bcc-d6b5-47821a1f87a6"
      },
      "source": [
        "# ER Confirming the shape of the input and output window\n",
        "print(\"Conv model on `conv_window`\")\n",
        "print('Input shape:', conv_window.example[0].shape)\n",
        "print('Output shape:', conv_model(conv_window.example[0]).shape)"
      ],
      "execution_count": 34,
      "outputs": [
        {
          "output_type": "stream",
          "name": "stdout",
          "text": [
            "Conv model on `conv_window`\n",
            "Input shape: (32, 7, 5)\n",
            "Output shape: (32, 1, 1)\n"
          ]
        }
      ]
    },
    {
      "cell_type": "code",
      "metadata": {
        "colab": {
          "base_uri": "https://localhost:8080/"
        },
        "id": "-F9kB6jou_y5",
        "outputId": "c96f3e4a-f8c1-4de7-ac76-20e7ea335e47"
      },
      "source": [
        "# ER compiling and fitting the model\n",
        "history = compile_and_fit(conv_model, conv_window)\n"
      ],
      "execution_count": 35,
      "outputs": [
        {
          "output_type": "stream",
          "name": "stdout",
          "text": [
            "Epoch 1/20\n",
            "858/858 [==============================] - 6s 6ms/step - loss: 0.4066 - mean_absolute_error: 0.4701 - val_loss: 0.1954 - val_mean_absolute_error: 0.3246\n",
            "Epoch 2/20\n",
            "858/858 [==============================] - 6s 7ms/step - loss: 0.3150 - mean_absolute_error: 0.3976 - val_loss: 0.1830 - val_mean_absolute_error: 0.3060\n",
            "Epoch 3/20\n",
            "858/858 [==============================] - 5s 6ms/step - loss: 0.2907 - mean_absolute_error: 0.3752 - val_loss: 0.1656 - val_mean_absolute_error: 0.2829\n",
            "Epoch 4/20\n",
            "858/858 [==============================] - 5s 6ms/step - loss: 0.2743 - mean_absolute_error: 0.3596 - val_loss: 0.1576 - val_mean_absolute_error: 0.2721\n",
            "Epoch 5/20\n",
            "858/858 [==============================] - 5s 6ms/step - loss: 0.2632 - mean_absolute_error: 0.3501 - val_loss: 0.1525 - val_mean_absolute_error: 0.2648\n",
            "Epoch 6/20\n",
            "858/858 [==============================] - 5s 6ms/step - loss: 0.2543 - mean_absolute_error: 0.3423 - val_loss: 0.1462 - val_mean_absolute_error: 0.2562\n",
            "Epoch 7/20\n",
            "858/858 [==============================] - 5s 6ms/step - loss: 0.2475 - mean_absolute_error: 0.3364 - val_loss: 0.1408 - val_mean_absolute_error: 0.2487\n",
            "Epoch 8/20\n",
            "858/858 [==============================] - 6s 6ms/step - loss: 0.2417 - mean_absolute_error: 0.3311 - val_loss: 0.1379 - val_mean_absolute_error: 0.2460\n",
            "Epoch 9/20\n",
            "858/858 [==============================] - 6s 7ms/step - loss: 0.2382 - mean_absolute_error: 0.3279 - val_loss: 0.1356 - val_mean_absolute_error: 0.2432\n",
            "Epoch 10/20\n",
            "858/858 [==============================] - 5s 6ms/step - loss: 0.2332 - mean_absolute_error: 0.3238 - val_loss: 0.1332 - val_mean_absolute_error: 0.2397\n",
            "Epoch 11/20\n",
            "858/858 [==============================] - 6s 7ms/step - loss: 0.2302 - mean_absolute_error: 0.3216 - val_loss: 0.1295 - val_mean_absolute_error: 0.2345\n",
            "Epoch 12/20\n",
            "858/858 [==============================] - 6s 6ms/step - loss: 0.2265 - mean_absolute_error: 0.3180 - val_loss: 0.1266 - val_mean_absolute_error: 0.2323\n",
            "Epoch 13/20\n",
            "858/858 [==============================] - 6s 7ms/step - loss: 0.2231 - mean_absolute_error: 0.3150 - val_loss: 0.1259 - val_mean_absolute_error: 0.2317\n",
            "Epoch 14/20\n",
            "858/858 [==============================] - 5s 6ms/step - loss: 0.2207 - mean_absolute_error: 0.3122 - val_loss: 0.1260 - val_mean_absolute_error: 0.2311\n",
            "Epoch 15/20\n",
            "858/858 [==============================] - 5s 6ms/step - loss: 0.2175 - mean_absolute_error: 0.3097 - val_loss: 0.1243 - val_mean_absolute_error: 0.2300\n",
            "Epoch 16/20\n",
            "858/858 [==============================] - 5s 6ms/step - loss: 0.2163 - mean_absolute_error: 0.3087 - val_loss: 0.1252 - val_mean_absolute_error: 0.2316\n",
            "Epoch 17/20\n",
            "858/858 [==============================] - 6s 7ms/step - loss: 0.2149 - mean_absolute_error: 0.3075 - val_loss: 0.1243 - val_mean_absolute_error: 0.2306\n",
            "Epoch 18/20\n",
            "858/858 [==============================] - 6s 6ms/step - loss: 0.2125 - mean_absolute_error: 0.3052 - val_loss: 0.1244 - val_mean_absolute_error: 0.2310\n",
            "Epoch 19/20\n",
            "858/858 [==============================] - 5s 6ms/step - loss: 0.2106 - mean_absolute_error: 0.3034 - val_loss: 0.1241 - val_mean_absolute_error: 0.2301\n",
            "Epoch 20/20\n",
            "858/858 [==============================] - 6s 7ms/step - loss: 0.2078 - mean_absolute_error: 0.3010 - val_loss: 0.1234 - val_mean_absolute_error: 0.2300\n"
          ]
        }
      ]
    },
    {
      "cell_type": "code",
      "metadata": {
        "id": "GD0dQH8L8UNv",
        "colab": {
          "base_uri": "https://localhost:8080/"
        },
        "outputId": "96464d49-d797-43e2-d79c-3d259c47c5e3"
      },
      "source": [
        "# Getting performance\n",
        "IPython.display.clear_output()\n",
        "val_performance['Conv'] = conv_model.evaluate(conv_window.val)\n",
        "performance['Conv'] = conv_model.evaluate(conv_window.test, verbose=1)"
      ],
      "execution_count": 36,
      "outputs": [
        {
          "output_type": "stream",
          "name": "stdout",
          "text": [
            "254/254 [==============================] - 1s 5ms/step - loss: 0.1234 - mean_absolute_error: 0.2300\n",
            "156/156 [==============================] - 1s 4ms/step - loss: 0.1047 - mean_absolute_error: 0.2121\n"
          ]
        }
      ]
    },
    {
      "cell_type": "markdown",
      "metadata": {
        "id": "fdaK2HePt_bd"
      },
      "source": [
        "### Exporting Results\n",
        "To export the results for use in the kaggle competition, I had to slice out the predictions for the test set. \n",
        "\n",
        "Once those were defined, I de-normalized them. To do this, I made the opposite transformations relative to what we did in the normalization step.\n",
        "\n",
        "I then created a dataframe with an index that started at 1, and the predictions."
      ]
    },
    {
      "cell_type": "code",
      "metadata": {
        "id": "fwLoLJtCS-2Z"
      },
      "source": [
        "# ER Reversing Normalization\n",
        "conv_pred = conv_model.predict(conv_window.test)[:,:,-1]\n",
        "conv_pred = conv_pred * train_std['traffic_volume']\n",
        "conv_pred = conv_pred + train_mean['traffic_volume']\n"
      ],
      "execution_count": 37,
      "outputs": []
    },
    {
      "cell_type": "code",
      "metadata": {
        "colab": {
          "base_uri": "https://localhost:8080/"
        },
        "id": "737WjjOBmXd4",
        "outputId": "c5d0aa21-4fe6-49f1-86c0-2cfa33bc4b78"
      },
      "source": [
        "# ER confirming shape\n",
        "conv_pred.shape"
      ],
      "execution_count": 38,
      "outputs": [
        {
          "output_type": "execute_result",
          "data": {
            "text/plain": [
              "(4991, 1)"
            ]
          },
          "metadata": {},
          "execution_count": 38
        }
      ]
    },
    {
      "cell_type": "code",
      "metadata": {
        "colab": {
          "base_uri": "https://localhost:8080/",
          "height": 363
        },
        "id": "TEk7jN71r0IO",
        "outputId": "afa52748-c784-4e5b-9f8a-6b109c1c0d20"
      },
      "source": [
        "# Er creating DataFrame\n",
        "prediction_index = np.arange(1,4992)\n",
        "prediction_list = pd.DataFrame(np.column_stack([prediction_index,conv_pred]),\n",
        "                               columns = ['id','prediction'])\n",
        "prediction_list.head(10)"
      ],
      "execution_count": 39,
      "outputs": [
        {
          "output_type": "execute_result",
          "data": {
            "text/html": [
              "<div>\n",
              "<style scoped>\n",
              "    .dataframe tbody tr th:only-of-type {\n",
              "        vertical-align: middle;\n",
              "    }\n",
              "\n",
              "    .dataframe tbody tr th {\n",
              "        vertical-align: top;\n",
              "    }\n",
              "\n",
              "    .dataframe thead th {\n",
              "        text-align: right;\n",
              "    }\n",
              "</style>\n",
              "<table border=\"1\" class=\"dataframe\">\n",
              "  <thead>\n",
              "    <tr style=\"text-align: right;\">\n",
              "      <th></th>\n",
              "      <th>id</th>\n",
              "      <th>prediction</th>\n",
              "    </tr>\n",
              "  </thead>\n",
              "  <tbody>\n",
              "    <tr>\n",
              "      <th>0</th>\n",
              "      <td>1.0</td>\n",
              "      <td>5648.123047</td>\n",
              "    </tr>\n",
              "    <tr>\n",
              "      <th>1</th>\n",
              "      <td>2.0</td>\n",
              "      <td>4963.490234</td>\n",
              "    </tr>\n",
              "    <tr>\n",
              "      <th>2</th>\n",
              "      <td>3.0</td>\n",
              "      <td>4618.261230</td>\n",
              "    </tr>\n",
              "    <tr>\n",
              "      <th>3</th>\n",
              "      <td>4.0</td>\n",
              "      <td>4658.171875</td>\n",
              "    </tr>\n",
              "    <tr>\n",
              "      <th>4</th>\n",
              "      <td>5.0</td>\n",
              "      <td>4730.620117</td>\n",
              "    </tr>\n",
              "    <tr>\n",
              "      <th>5</th>\n",
              "      <td>6.0</td>\n",
              "      <td>4161.218750</td>\n",
              "    </tr>\n",
              "    <tr>\n",
              "      <th>6</th>\n",
              "      <td>7.0</td>\n",
              "      <td>3359.797852</td>\n",
              "    </tr>\n",
              "    <tr>\n",
              "      <th>7</th>\n",
              "      <td>8.0</td>\n",
              "      <td>3115.092285</td>\n",
              "    </tr>\n",
              "    <tr>\n",
              "      <th>8</th>\n",
              "      <td>9.0</td>\n",
              "      <td>4149.109375</td>\n",
              "    </tr>\n",
              "    <tr>\n",
              "      <th>9</th>\n",
              "      <td>10.0</td>\n",
              "      <td>5021.633789</td>\n",
              "    </tr>\n",
              "  </tbody>\n",
              "</table>\n",
              "</div>"
            ],
            "text/plain": [
              "     id   prediction\n",
              "0   1.0  5648.123047\n",
              "1   2.0  4963.490234\n",
              "2   3.0  4618.261230\n",
              "3   4.0  4658.171875\n",
              "4   5.0  4730.620117\n",
              "5   6.0  4161.218750\n",
              "6   7.0  3359.797852\n",
              "7   8.0  3115.092285\n",
              "8   9.0  4149.109375\n",
              "9  10.0  5021.633789"
            ]
          },
          "metadata": {},
          "execution_count": 39
        }
      ]
    },
    {
      "cell_type": "code",
      "metadata": {
        "id": "LjMal5patEsn"
      },
      "source": [
        "# ER exporting to csv\n",
        "prediction_list.to_csv('Evelina_Results_Conv_final.csv', sep=',')"
      ],
      "execution_count": 40,
      "outputs": []
    },
    {
      "cell_type": "markdown",
      "metadata": {
        "id": "mCoBfPBV9B3x"
      },
      "source": [
        "### RNN/LSTM\n",
        "I attempted a single-layer, as well as a 2-layer and 3 layer variant of this model. I chose to work more on the  CNN becasue the performance of the LSTM model was much weaker. "
      ]
    },
    {
      "cell_type": "code",
      "metadata": {
        "id": "KQ4ZASsk9Fsc"
      },
      "source": [
        "lstm_model = tf.keras.models.Sequential([\n",
        "    # Shape [batch, time, features] => [batch, time, lstm_units]\n",
        "    tf.keras.layers.LSTM(160, return_sequences=True),\n",
        "    tf.keras.layers.LSTM(62, return_sequences=True),\n",
        "    tf.keras.layers.LSTM(32, return_sequences=True),\n",
        "    # Shape => [batch, time, features]\n",
        "    tf.keras.layers.Dense(units=1)\n",
        "])"
      ],
      "execution_count": 41,
      "outputs": []
    },
    {
      "cell_type": "code",
      "metadata": {
        "id": "eRO5H4h99J6k",
        "colab": {
          "base_uri": "https://localhost:8080/"
        },
        "outputId": "15a4cfca-e06b-4f8e-a354-46ca6a35f2ff"
      },
      "source": [
        "print('Input shape:', w1.example[0].shape)\n",
        "print('Output shape:', lstm_model(w1.example[0]).shape)"
      ],
      "execution_count": 42,
      "outputs": [
        {
          "output_type": "stream",
          "name": "stdout",
          "text": [
            "Input shape: (32, 7, 5)\n",
            "Output shape: (32, 7, 1)\n"
          ]
        }
      ]
    },
    {
      "cell_type": "code",
      "metadata": {
        "id": "zJKo2hAA9QeL",
        "colab": {
          "base_uri": "https://localhost:8080/"
        },
        "outputId": "fbb3f404-4ca0-41c9-9901-aa460df9038c"
      },
      "source": [
        "history = compile_and_fit(lstm_model, w1)\n",
        "\n",
        "IPython.display.clear_output()\n",
        "val_performance['LSTM'] = lstm_model.evaluate(w1.val)\n",
        "performance['LSTM'] = lstm_model.evaluate(w1.test)"
      ],
      "execution_count": 43,
      "outputs": [
        {
          "output_type": "stream",
          "name": "stdout",
          "text": [
            "254/254 [==============================] - 3s 12ms/step - loss: 0.3624 - mean_absolute_error: 0.3925\n",
            "156/156 [==============================] - 2s 12ms/step - loss: 0.4096 - mean_absolute_error: 0.4003\n"
          ]
        }
      ]
    }
  ]
}